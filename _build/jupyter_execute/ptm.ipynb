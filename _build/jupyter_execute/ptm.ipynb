{
 "cells": [
  {
   "cell_type": "markdown",
   "id": "5c0c5973",
   "metadata": {
    "tags": []
   },
   "source": [
    "# Puerto Morelos\n",
    "\n",
    "Submarine groundwater discharges (SGD) play a critical role in the dynamics of coastal\n",
    "systems. Through these sites, significant amounts of freshwater flow from the continental\n",
    "aquifer into the ocean, and, under suitable tidal and hydraulic gradient conditions, reverse\n",
    "flows can also occur. The significant increase in sea level caused by climate change will\n",
    "force marine intrusion to advance inland rapidly, therefore threatening underground\n",
    "freshwater reserves in coastal aquifers. An understanding of the hydrogeological structure\n",
    "where SGD occur is essential to activate early warning procedures. The present work is\n",
    "located in the Caribbean Sea, in the state of Quintana Roo, Mexico, specifically in Puerto\n",
    "Morelos. This area was selected because previous research has identified seven locations\n",
    "where large volume groundwater discharges occur. Twenty profiles (~20km) parallel to\n",
    "the coast were acquired. The resistivity meter used was a SuperSting R8 Marine\n",
    "(Advanced Geoscience, Inc.) together with a towed array composed of 11 electrodes with\n",
    "10-m spacing and dipole-dipole survey configuration. A Lowrance GPS and sonar\n",
    "transducer were used to collect lat/long and depth data for the survey.\n",
    "The union of the resistivity and GPS data, as well as the linearization of the profiles, was\n",
    "carried out with specifically tailored codes written in Python. The data inversion was made\n",
    "with Pérez-Flores 2021 algorithm written in Fortran as well as with open-source software.\n",
    "Reproducibility of the methods and results is guaranteed, as the material is available in a\n",
    "GitHub repository. The results provide new information about the structure of these\n",
    "underwater structures in Puerto Morelos.\n",
    "\n",
    "IMAGE\n",
    "\n",
    "Figure. Resistivity marine model in Puerto Morelos, Mexico. A. Study Location. B. Study\n",
    "area on the sea. C. Preliminar 3D electrical resistivity model. Submarine groundwater\n",
    "\n",
    "discharges are shown in yellow.\n",
    "\n",
    "\n",
    "Support: National Council of Science and Technology (CONACyT). LANRESC. Mario\n",
    "Rebolledo-Vieyra.\n",
    "Keywords: SGD, freshwater, marine intrusion, karst, hydrogeology, climate change.\n",
    "Topics related: Near Surface Geophysics, Electric and Electromagnetic Methods, Data\n",
    "Analytics.\n",
    "References\n",
    "Pérez-Flores, M., Méndez-Delgado, S., y Gómez-Treviño, Imaging low-frequency and dc\n",
    "electromagnetic fields\n",
    "using a simple linear approximation. Geophysics, v. 66, n. 4, p. 1067–1081, SEG, 2001.\n",
    "\n",
    "## What is MyST?"
   ]
  },
  {
   "cell_type": "markdown",
   "id": "17e7055e",
   "metadata": {
    "tags": []
   },
   "source": [
    "## Video\n",
    "\n",
    "You can watch a video of our tutorial, \"Processing gravity data with Harmonica,\" streamed live on Apr 22, 2021.\n",
    "```{note}\n",
    "Remember that the Youtube tutorials may differ slightly from the ones presented on this website, which contains the more recent version of our tutorials\n",
    "```"
   ]
  },
  {
   "cell_type": "code",
   "execution_count": 1,
   "id": "cfc89582",
   "metadata": {
    "tags": [
     "remove-input"
    ]
   },
   "outputs": [
    {
     "data": {
      "application/vnd.jupyter.widget-view+json": {
       "model_id": "93df854f22c449898d06a4793dced331",
       "version_major": 2,
       "version_minor": 0
      },
      "text/plain": [
       "Tab(children=(Output(),), selected_index=0, titles=('Youtube',))"
      ]
     },
     "metadata": {},
     "output_type": "display_data"
    }
   ],
   "source": [
    "from ipywidgets import widgets\n",
    "out1 = widgets.Output()\n",
    "with out1:\n",
    "  from IPython.display import YouTubeVideo\n",
    "  video = YouTubeVideo(id=\"d0AGgIdL3nw\", width=854, height=480, fs=1, rel=0)\n",
    "  display(video)\n",
    "\n",
    "out = widgets.Tab([out1])\n",
    "out.set_title(0, 'Youtube')\n",
    "display(out)"
   ]
  },
  {
   "cell_type": "markdown",
   "id": "c5dc7d80",
   "metadata": {},
   "source": [
    "MyST stands for \"Markedly Structured Text\". It\n",
    "is a slight variation on a flavor of markdown called \"CommonMark\" markdown,\n",
    "with small syntax extensions to allow you to write **roles** and **directives**\n",
    "in the Sphinx ecosystem.\n",
    "\n",
    "For more about MyST, see [the MyST Markdown Overview](https://jupyterbook.org/content/myst.html).\n",
    "\n",
    "## Sample Roles and Directives\n",
    "\n",
    "Roles and directives are two of the most powerful tools in Jupyter Book. They\n",
    "are kind of like functions, but written in a markup language. They both\n",
    "serve a similar purpose, but **roles are written in one line**, whereas\n",
    "**directives span many lines**. They both accept different kinds of inputs,\n",
    "and what they do with those inputs depends on the specific role or directive\n",
    "that is being called.\n",
    "\n",
    "Here is a \"note\" directive:\n",
    "\n",
    "```{note}\n",
    "Here is a note\n",
    "```\n",
    "\n",
    "It will be rendered in a special box when you build your book.\n",
    "\n",
    "Here is an inline directive to refer to a document: {doc}`markdown-notebooks`.\n",
    "\n",
    "\n",
    "## Citations\n",
    "\n",
    "You can also cite references that are stored in a `bibtex` file. For example,\n",
    "the following syntax: `` {cite}`holdgraf_evidence_2014` `` will render like\n",
    "this: {cite}`holdgraf_evidence_2014`.\n",
    "\n",
    "Moreover, you can insert a bibliography into your page with this syntax:\n",
    "The `{bibliography}` directive must be used for all the `{cite}` roles to\n",
    "render properly.\n",
    "For example, if the references for your book are stored in `references.bib`,\n",
    "then the bibliography is inserted with:\n",
    "\n",
    "```{bibliography}\n",
    "```\n",
    "\n",
    "## Learn more\n",
    "\n",
    "This is just a simple starter to get you started.\n",
    "You can learn a lot more at [jupyterbook.org](https://jupyterbook.org)."
   ]
  }
 ],
 "metadata": {
  "jupytext": {
   "text_representation": {
    "extension": ".md",
    "format_name": "myst",
    "format_version": 0.13,
    "jupytext_version": "1.11.5"
   }
  },
  "kernelspec": {
   "display_name": "Python 3 (ipykernel)",
   "language": "python",
   "name": "python3"
  },
  "language_info": {
   "codemirror_mode": {
    "name": "ipython",
    "version": 3
   },
   "file_extension": ".py",
   "mimetype": "text/x-python",
   "name": "python",
   "nbconvert_exporter": "python",
   "pygments_lexer": "ipython3",
   "version": "3.9.16"
  },
  "source_map": [
   14,
   59,
   68,
   81
  ],
  "widgets": {
   "application/vnd.jupyter.widget-state+json": {
    "state": {
     "2be30d4e45ed4dc48b943341acdf78f5": {
      "model_module": "@jupyter-widgets/output",
      "model_module_version": "1.0.0",
      "model_name": "OutputModel",
      "state": {
       "_dom_classes": [],
       "_model_module": "@jupyter-widgets/output",
       "_model_module_version": "1.0.0",
       "_model_name": "OutputModel",
       "_view_count": null,
       "_view_module": "@jupyter-widgets/output",
       "_view_module_version": "1.0.0",
       "_view_name": "OutputView",
       "layout": "IPY_MODEL_4c200561d8c74a558eadae22b263a3bd",
       "msg_id": "",
       "outputs": [
        {
         "data": {
          "image/jpeg": "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",
          "text/html": "\n        <iframe\n            width=\"854\"\n            height=\"480\"\n            src=\"https://www.youtube.com/embed/d0AGgIdL3nw?fs=1&rel=0\"\n            frameborder=\"0\"\n            allowfullscreen\n            \n        ></iframe>\n        ",
          "text/plain": "<IPython.lib.display.YouTubeVideo at 0x7f9160172970>"
         },
         "metadata": {},
         "output_type": "display_data"
        }
       ],
       "tabbable": null,
       "tooltip": null
      }
     },
     "4c200561d8c74a558eadae22b263a3bd": {
      "model_module": "@jupyter-widgets/base",
      "model_module_version": "2.0.0",
      "model_name": "LayoutModel",
      "state": {
       "_model_module": "@jupyter-widgets/base",
       "_model_module_version": "2.0.0",
       "_model_name": "LayoutModel",
       "_view_count": null,
       "_view_module": "@jupyter-widgets/base",
       "_view_module_version": "2.0.0",
       "_view_name": "LayoutView",
       "align_content": null,
       "align_items": null,
       "align_self": null,
       "border_bottom": null,
       "border_left": null,
       "border_right": null,
       "border_top": null,
       "bottom": null,
       "display": null,
       "flex": null,
       "flex_flow": null,
       "grid_area": null,
       "grid_auto_columns": null,
       "grid_auto_flow": null,
       "grid_auto_rows": null,
       "grid_column": null,
       "grid_gap": null,
       "grid_row": null,
       "grid_template_areas": null,
       "grid_template_columns": null,
       "grid_template_rows": null,
       "height": null,
       "justify_content": null,
       "justify_items": null,
       "left": null,
       "margin": null,
       "max_height": null,
       "max_width": null,
       "min_height": null,
       "min_width": null,
       "object_fit": null,
       "object_position": null,
       "order": null,
       "overflow": null,
       "padding": null,
       "right": null,
       "top": null,
       "visibility": null,
       "width": null
      }
     },
     "93df854f22c449898d06a4793dced331": {
      "model_module": "@jupyter-widgets/controls",
      "model_module_version": "2.0.0",
      "model_name": "TabModel",
      "state": {
       "_dom_classes": [],
       "_model_module": "@jupyter-widgets/controls",
       "_model_module_version": "2.0.0",
       "_model_name": "TabModel",
       "_view_count": null,
       "_view_module": "@jupyter-widgets/controls",
       "_view_module_version": "2.0.0",
       "_view_name": "TabView",
       "box_style": "",
       "children": [
        "IPY_MODEL_2be30d4e45ed4dc48b943341acdf78f5"
       ],
       "layout": "IPY_MODEL_fe54f8ce16cd493c9b9116e2c8cb01f3",
       "selected_index": 0,
       "tabbable": null,
       "titles": [
        "Youtube"
       ],
       "tooltip": null
      }
     },
     "fe54f8ce16cd493c9b9116e2c8cb01f3": {
      "model_module": "@jupyter-widgets/base",
      "model_module_version": "2.0.0",
      "model_name": "LayoutModel",
      "state": {
       "_model_module": "@jupyter-widgets/base",
       "_model_module_version": "2.0.0",
       "_model_name": "LayoutModel",
       "_view_count": null,
       "_view_module": "@jupyter-widgets/base",
       "_view_module_version": "2.0.0",
       "_view_name": "LayoutView",
       "align_content": null,
       "align_items": null,
       "align_self": null,
       "border_bottom": null,
       "border_left": null,
       "border_right": null,
       "border_top": null,
       "bottom": null,
       "display": null,
       "flex": null,
       "flex_flow": null,
       "grid_area": null,
       "grid_auto_columns": null,
       "grid_auto_flow": null,
       "grid_auto_rows": null,
       "grid_column": null,
       "grid_gap": null,
       "grid_row": null,
       "grid_template_areas": null,
       "grid_template_columns": null,
       "grid_template_rows": null,
       "height": null,
       "justify_content": null,
       "justify_items": null,
       "left": null,
       "margin": null,
       "max_height": null,
       "max_width": null,
       "min_height": null,
       "min_width": null,
       "object_fit": null,
       "object_position": null,
       "order": null,
       "overflow": null,
       "padding": null,
       "right": null,
       "top": null,
       "visibility": null,
       "width": null
      }
     }
    },
    "version_major": 2,
    "version_minor": 0
   }
  }
 },
 "nbformat": 4,
 "nbformat_minor": 5
}