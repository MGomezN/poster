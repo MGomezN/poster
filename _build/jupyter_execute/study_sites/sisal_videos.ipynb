{
 "cells": [
  {
   "cell_type": "markdown",
   "id": "6dbf593c",
   "metadata": {
    "tags": []
   },
   "source": [
    "# Sisal\n",
    "\n",
    "\n",
    "\n",
    "## Sisal in images"
   ]
  },
  {
   "cell_type": "code",
   "execution_count": 1,
   "id": "09c672c5",
   "metadata": {
    "tags": [
     "remove-input"
    ]
   },
   "outputs": [
    {
     "data": {
      "application/vnd.jupyter.widget-view+json": {
       "model_id": "0a2b4c51c89d42f6986f540bcb009659",
       "version_major": 2,
       "version_minor": 0
      },
      "text/plain": [
       "Tab(children=(Output(),), selected_index=0, titles=('Youtube',))"
      ]
     },
     "metadata": {},
     "output_type": "display_data"
    }
   ],
   "source": [
    "from ipywidgets import widgets\n",
    "out1 = widgets.Output()\n",
    "with out1:\n",
    "  from IPython.display import YouTubeVideo\n",
    "  video = YouTubeVideo(id=\"pUA4VlW96XM\", width=854, height=480, fs=1, rel=0)\n",
    "  display(video)\n",
    "\n",
    "out = widgets.Tab([out1])\n",
    "out.set_title(0, 'Youtube')\n",
    "display(out)"
   ]
  }
 ],
 "metadata": {
  "jupytext": {
   "text_representation": {
    "extension": ".md",
    "format_name": "myst",
    "format_version": 0.13,
    "jupytext_version": "1.11.5"
   }
  },
  "kernelspec": {
   "display_name": "Python 3 (ipykernel)",
   "language": "python",
   "name": "python3"
  },
  "language_info": {
   "codemirror_mode": {
    "name": "ipython",
    "version": 3
   },
   "file_extension": ".py",
   "mimetype": "text/x-python",
   "name": "python",
   "nbconvert_exporter": "python",
   "pygments_lexer": "ipython3",
   "version": "3.9.16"
  },
  "source_map": [
   14,
   24
  ],
  "widgets": {
   "application/vnd.jupyter.widget-state+json": {
    "state": {
     "0a2b4c51c89d42f6986f540bcb009659": {
      "model_module": "@jupyter-widgets/controls",
      "model_module_version": "2.0.0",
      "model_name": "TabModel",
      "state": {
       "_dom_classes": [],
       "_model_module": "@jupyter-widgets/controls",
       "_model_module_version": "2.0.0",
       "_model_name": "TabModel",
       "_view_count": null,
       "_view_module": "@jupyter-widgets/controls",
       "_view_module_version": "2.0.0",
       "_view_name": "TabView",
       "box_style": "",
       "children": [
        "IPY_MODEL_d13dfbe123054aa9a248b1accaea06c8"
       ],
       "layout": "IPY_MODEL_3e168b411bba4cefa68d93b94fc9d3f6",
       "selected_index": 0,
       "tabbable": null,
       "titles": [
        "Youtube"
       ],
       "tooltip": null
      }
     },
     "3e168b411bba4cefa68d93b94fc9d3f6": {
      "model_module": "@jupyter-widgets/base",
      "model_module_version": "2.0.0",
      "model_name": "LayoutModel",
      "state": {
       "_model_module": "@jupyter-widgets/base",
       "_model_module_version": "2.0.0",
       "_model_name": "LayoutModel",
       "_view_count": null,
       "_view_module": "@jupyter-widgets/base",
       "_view_module_version": "2.0.0",
       "_view_name": "LayoutView",
       "align_content": null,
       "align_items": null,
       "align_self": null,
       "border_bottom": null,
       "border_left": null,
       "border_right": null,
       "border_top": null,
       "bottom": null,
       "display": null,
       "flex": null,
       "flex_flow": null,
       "grid_area": null,
       "grid_auto_columns": null,
       "grid_auto_flow": null,
       "grid_auto_rows": null,
       "grid_column": null,
       "grid_gap": null,
       "grid_row": null,
       "grid_template_areas": null,
       "grid_template_columns": null,
       "grid_template_rows": null,
       "height": null,
       "justify_content": null,
       "justify_items": null,
       "left": null,
       "margin": null,
       "max_height": null,
       "max_width": null,
       "min_height": null,
       "min_width": null,
       "object_fit": null,
       "object_position": null,
       "order": null,
       "overflow": null,
       "padding": null,
       "right": null,
       "top": null,
       "visibility": null,
       "width": null
      }
     },
     "b1207c6606794df286c2b8911e60c4ff": {
      "model_module": "@jupyter-widgets/base",
      "model_module_version": "2.0.0",
      "model_name": "LayoutModel",
      "state": {
       "_model_module": "@jupyter-widgets/base",
       "_model_module_version": "2.0.0",
       "_model_name": "LayoutModel",
       "_view_count": null,
       "_view_module": "@jupyter-widgets/base",
       "_view_module_version": "2.0.0",
       "_view_name": "LayoutView",
       "align_content": null,
       "align_items": null,
       "align_self": null,
       "border_bottom": null,
       "border_left": null,
       "border_right": null,
       "border_top": null,
       "bottom": null,
       "display": null,
       "flex": null,
       "flex_flow": null,
       "grid_area": null,
       "grid_auto_columns": null,
       "grid_auto_flow": null,
       "grid_auto_rows": null,
       "grid_column": null,
       "grid_gap": null,
       "grid_row": null,
       "grid_template_areas": null,
       "grid_template_columns": null,
       "grid_template_rows": null,
       "height": null,
       "justify_content": null,
       "justify_items": null,
       "left": null,
       "margin": null,
       "max_height": null,
       "max_width": null,
       "min_height": null,
       "min_width": null,
       "object_fit": null,
       "object_position": null,
       "order": null,
       "overflow": null,
       "padding": null,
       "right": null,
       "top": null,
       "visibility": null,
       "width": null
      }
     },
     "d13dfbe123054aa9a248b1accaea06c8": {
      "model_module": "@jupyter-widgets/output",
      "model_module_version": "1.0.0",
      "model_name": "OutputModel",
      "state": {
       "_dom_classes": [],
       "_model_module": "@jupyter-widgets/output",
       "_model_module_version": "1.0.0",
       "_model_name": "OutputModel",
       "_view_count": null,
       "_view_module": "@jupyter-widgets/output",
       "_view_module_version": "1.0.0",
       "_view_name": "OutputView",
       "layout": "IPY_MODEL_b1207c6606794df286c2b8911e60c4ff",
       "msg_id": "",
       "outputs": [
        {
         "data": {
          "image/jpeg": "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",
          "text/html": "\n        <iframe\n            width=\"854\"\n            height=\"480\"\n            src=\"https://www.youtube.com/embed/pUA4VlW96XM?fs=1&rel=0\"\n            frameborder=\"0\"\n            allowfullscreen\n            \n        ></iframe>\n        ",
          "text/plain": "<IPython.lib.display.YouTubeVideo at 0x7f7fb04551c0>"
         },
         "metadata": {},
         "output_type": "display_data"
        }
       ],
       "tabbable": null,
       "tooltip": null
      }
     }
    },
    "version_major": 2,
    "version_minor": 0
   }
  }
 },
 "nbformat": 4,
 "nbformat_minor": 5
}