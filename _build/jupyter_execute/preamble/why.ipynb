{
 "cells": [
  {
   "cell_type": "markdown",
   "id": "0cf85e7a",
   "metadata": {},
   "source": [
    "# Why is important to study coastal karstic aquifers?\n",
    "\n",
    "We focus on coastal karst systems mainly for three reasons: First, because the coastal areas are zones of rapid development (infrastructure for tourism, eolic energy, solar energy and sheltered fishing ports) where climate change will produce impacts in different timescales to the volume and quality of the fresh-water, directly affecting the living conditions and economic potential of the 25 (Ford, 2017) of the population that depends of this water re-source. Secondly, their peculiar intrinsic geological and hydrogeological features such as fractured rock mass, cavities, and conduits, facilitate rapid infiltration of runoff and con-\n",
    "centrated groundwater flow. The action of tidal forcing and variable-density flow caused by seawater intrusion and aquifer discharge through submarine springs amplify their complexity (Kromhout y Byle, 2020). Finally, despite the above, few works are focused on coastal karst hydrology and its inherent heterogeneity and even fewer, combine it with geophysical techniques.\n",
    "\n",
    "## Why using electrical resistivity imaging?\n",
    "Electrical resistivity tomography is a critical technique in the rapidly emerging field of hydrogeophysics that provides structural and electric information of the subsurface (Fagbenro y Woma, 2013; Kazakis et al., 2016; Sattar et al., 2014; George et al., 2015; Okiongbo y Oborie, 2015). This information can be use to a qualitative description of the rock type and pore properties at different scales; to develop constraints for hydrogeological modeling such as hydrostratigraphic units, locations of faults and fractures (Rubin y Hubbard, 2005).\n",
    "\n",
    "## What are the research gaps in this area?\n",
    "Different perspectives have been taken to extend the use of electrical methods to the\n",
    "study of hydrogeology in karst systems. Either an equivalent porous medium is assumed, and Archie’s Law can be applied (Whitman y Yeboah-Forson, 2015; Zamora-Luria et al., 2020) or else, with a new theoretical approach that does not try to omit the inherent complexity. At a theoretical level, the work of Demirel et al. (2019) is pioneering in generating a systematic conceptualization and modeling of the representative equivalent volume behavior in fractured systems. This study recognizes the representative equivalent volume as a key factor that will determine the degree of connection obtained between electrical and hydraulic properties. However, he leaves the door open because his work was developed at a theoretical level, using a synthetic set of data and, therefore, requires evaluation with real\n",
    "data. This thesis proposes to analyze secondary an tertiary porosity in three systems with different levels of karstification: Andros (Bahamas), Puerto Morelos (Quintana Roo), and Sisal (Yucatan)."
   ]
  }
 ],
 "metadata": {
  "jupytext": {
   "formats": "md:myst",
   "text_representation": {
    "extension": ".md",
    "format_name": "myst",
    "format_version": 0.13,
    "jupytext_version": "1.11.5"
   }
  },
  "kernelspec": {
   "display_name": "Python 3",
   "language": "python",
   "name": "python3"
  },
  "language_info": {
   "codemirror_mode": {
    "name": "ipython",
    "version": 3
   },
   "file_extension": ".py",
   "mimetype": "text/x-python",
   "name": "python",
   "nbconvert_exporter": "python",
   "pygments_lexer": "ipython3",
   "version": "3.9.16"
  },
  "source_map": [
   13
  ]
 },
 "nbformat": 4,
 "nbformat_minor": 5
}